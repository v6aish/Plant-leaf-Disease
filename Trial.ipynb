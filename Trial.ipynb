{
 "cells": [
  {
   "cell_type": "code",
   "execution_count": 2,
   "id": "9cdcd4e4",
   "metadata": {},
   "outputs": [],
   "source": [
    "import cv2\n",
    "import os\n",
    "\n",
    "# Dataset directory\n",
    "dataset_dir = \"D:\\Final yr\"\n",
    "valid_extensions = ('.jpg', '.jpeg', '.png')\n",
    "\n",
    "for label in os.listdir(dataset_dir):\n",
    "    label_path = os.path.join(dataset_dir, label)\n",
    "    if os.path.isdir(label_path):\n",
    "        for image_name in os.listdir(label_path):\n",
    "            if image_name.lower().endswith(valid_extensions):\n",
    "                image_path = os.path.join(label_path, image_name)\n",
    "                # Load image\n",
    "                image = cv2.imread(image_path)\n",
    "                if image is None:\n",
    "                    print(f\"Failed to load image: {image_path}\")\n",
    "                    continue\n",
    "                try:\n",
    "                    gray = cv2.cvtColor(image, cv2.COLOR_BGR2GRAY)\n",
    "                    # Further processing\n",
    "                except Exception as e:\n",
    "                    print(f\"Error processing image {image_path}: {e}\")\n"
   ]
  },
  {
   "cell_type": "code",
   "execution_count": 3,
   "id": "0f01432c",
   "metadata": {},
   "outputs": [],
   "source": [
    "import os\n",
    "import cv2\n",
    "import numpy as np\n",
    "import pandas as pd\n",
    "\n",
    "# Dataset path\n",
    "dataset_path = \"D:\\Final yr\"\n",
    "\n",
    "# Get all image paths\n",
    "image_paths = []\n",
    "labels = []\n",
    "\n",
    "for folder in os.listdir(dataset_path):\n",
    "    folder_path = os.path.join(dataset_path, folder)\n",
    "    if os.path.isdir(folder_path):\n",
    "        for img in os.listdir(folder_path):\n",
    "            image_paths.append(os.path.join(folder_path, img))\n",
    "            labels.append(folder)\n"
   ]
  },
  {
   "cell_type": "code",
   "execution_count": 4,
   "id": "8da2cc54",
   "metadata": {},
   "outputs": [
    {
     "name": "stdout",
     "output_type": "stream",
     "text": [
      "Error processing D:\\Final yr\\PlantVillage\\Potato___Early_blight: OpenCV(4.10.0) D:\\a\\opencv-python\\opencv-python\\opencv\\modules\\imgproc\\src\\color.cpp:196: error: (-215:Assertion failed) !_src.empty() in function 'cv::cvtColor'\n",
      "\n",
      "Error processing D:\\Final yr\\PlantVillage\\Potato___healthy: OpenCV(4.10.0) D:\\a\\opencv-python\\opencv-python\\opencv\\modules\\imgproc\\src\\color.cpp:196: error: (-215:Assertion failed) !_src.empty() in function 'cv::cvtColor'\n",
      "\n",
      "Error processing D:\\Final yr\\PlantVillage\\Potato___Late_blight: OpenCV(4.10.0) D:\\a\\opencv-python\\opencv-python\\opencv\\modules\\imgproc\\src\\color.cpp:196: error: (-215:Assertion failed) !_src.empty() in function 'cv::cvtColor'\n",
      "\n"
     ]
    }
   ],
   "source": [
    "features = []\n",
    "\n",
    "for image_path, label in zip(image_paths, labels):\n",
    "    try:\n",
    "        # Read the image\n",
    "        image = cv2.imread(image_path)\n",
    "        gray = cv2.cvtColor(image, cv2.COLOR_BGR2GRAY)\n",
    "\n",
    "        # Apply binary thresholding\n",
    "        _, binary = cv2.threshold(gray, 127, 255, cv2.THRESH_BINARY)\n",
    "\n",
    "        # Find contours\n",
    "        contours, _ = cv2.findContours(binary, cv2.RETR_EXTERNAL, cv2.CHAIN_APPROX_SIMPLE)\n",
    "\n",
    "        for contour in contours:\n",
    "            # Calculate moments\n",
    "            M = cv2.moments(contour)\n",
    "            if M[\"m00\"] != 0:\n",
    "                centroid_x = int(M[\"m10\"] / M[\"m00\"])\n",
    "                centroid_y = int(M[\"m01\"] / M[\"m00\"])\n",
    "            else:\n",
    "                centroid_x, centroid_y = 0, 0\n",
    "\n",
    "            # Calculate radius\n",
    "            (x, y), radius = cv2.minEnclosingCircle(contour)\n",
    "\n",
    "            # Calculate area and density\n",
    "            area_leaf = cv2.contourArea(contour)\n",
    "            area_circle = np.pi * (radius ** 2)\n",
    "            density = area_leaf / area_circle if area_circle != 0 else 0\n",
    "\n",
    "            # Append results\n",
    "            features.append({\n",
    "                \"Image\": image_path,\n",
    "                \"Label\": label,\n",
    "                \"Centroid_X\": centroid_x,\n",
    "                \"Centroid_Y\": centroid_y,\n",
    "                \"Radius\": radius,\n",
    "                \"Density\": density\n",
    "            })\n",
    "    except Exception as e:\n",
    "        print(f\"Error processing {image_path}: {e}\")\n"
   ]
  },
  {
   "cell_type": "code",
   "execution_count": 5,
   "id": "9ed8e849",
   "metadata": {},
   "outputs": [],
   "source": [
    "# Save the features to a CSV\n",
    "df = pd.DataFrame(features)\n",
    "df.to_csv(\"plant_village_features.csv\", index=False)\n"
   ]
  },
  {
   "cell_type": "code",
   "execution_count": 7,
   "id": "d05d0144",
   "metadata": {},
   "outputs": [
    {
     "name": "stdout",
     "output_type": "stream",
     "text": [
      "RangeIndex(start=0, stop=0, step=1)\n"
     ]
    }
   ],
   "source": [
    "print(df.columns)\n"
   ]
  },
  {
   "cell_type": "code",
   "execution_count": 8,
   "id": "db6a3a0f",
   "metadata": {},
   "outputs": [
    {
     "name": "stdout",
     "output_type": "stream",
     "text": [
      "Empty DataFrame\n",
      "Columns: []\n",
      "Index: []\n"
     ]
    }
   ],
   "source": [
    "print(df.head())\n"
   ]
  },
  {
   "cell_type": "code",
   "execution_count": 10,
   "id": "f4609fb6",
   "metadata": {},
   "outputs": [
    {
     "ename": "NameError",
     "evalue": "name 'contours' is not defined",
     "output_type": "error",
     "traceback": [
      "\u001b[1;31m---------------------------------------------------------------------------\u001b[0m",
      "\u001b[1;31mNameError\u001b[0m                                 Traceback (most recent call last)",
      "Cell \u001b[1;32mIn[10], line 1\u001b[0m\n\u001b[1;32m----> 1\u001b[0m \u001b[38;5;28;01mfor\u001b[39;00m contour \u001b[38;5;129;01min\u001b[39;00m contours:\n\u001b[0;32m      2\u001b[0m     \u001b[38;5;66;03m# Calculate moments\u001b[39;00m\n\u001b[0;32m      3\u001b[0m     M \u001b[38;5;241m=\u001b[39m cv2\u001b[38;5;241m.\u001b[39mmoments(contour)\n\u001b[0;32m      4\u001b[0m     \u001b[38;5;28;01mif\u001b[39;00m M[\u001b[38;5;124m\"\u001b[39m\u001b[38;5;124mm00\u001b[39m\u001b[38;5;124m\"\u001b[39m] \u001b[38;5;241m!=\u001b[39m \u001b[38;5;241m0\u001b[39m:\n",
      "\u001b[1;31mNameError\u001b[0m: name 'contours' is not defined"
     ]
    }
   ],
   "source": [
    "for contour in contours:\n",
    "    # Calculate moments\n",
    "    M = cv2.moments(contour)\n",
    "    if M[\"m00\"] != 0:\n",
    "        centroid_x = int(M[\"m10\"] / M[\"m00\"])\n",
    "        centroid_y = int(M[\"m01\"] / M[\"m00\"])\n",
    "    else:\n",
    "        centroid_x, centroid_y = 0, 0\n",
    "\n",
    "    # Calculate radius of the enclosing circle\n",
    "    (x, y), radius = cv2.minEnclosingCircle(contour)\n",
    "    \n",
    "    # Calculate the area of the contour (leaf)\n",
    "    area_leaf = cv2.contourArea(contour)\n",
    "    \n",
    "    # Calculate the area of the enclosing circle\n",
    "    area_circle = np.pi * (radius ** 2)\n",
    "    \n",
    "    # Calculate density (leaf area / circle area)\n",
    "    density = area_leaf / area_circle if area_circle != 0 else 0\n",
    "\n",
    "    # Append the extracted features\n",
    "    features.append({\n",
    "        \"Image\": image_path,\n",
    "        \"Label\": label,\n",
    "        \"Centroid_X\": centroid_x,\n",
    "        \"Centroid_Y\": centroid_y,\n",
    "        \"Radius\": radius,\n",
    "        \"Density\": density  # Ensure this key is added\n",
    "    })\n"
   ]
  },
  {
   "cell_type": "code",
   "execution_count": 11,
   "id": "f3fd87da",
   "metadata": {
    "scrolled": true
   },
   "outputs": [
    {
     "name": "stdout",
     "output_type": "stream",
     "text": [
      "Features saved to features.csv\n"
     ]
    }
   ],
   "source": [
    "import os\n",
    "import cv2\n",
    "import numpy as np\n",
    "import pandas as pd\n",
    "\n",
    "# Path to dataset directory\n",
    "dataset_dir = \"D:\\Final yr\"  # Replace with the path to your dataset\n",
    "output_csv = \"features.csv\"\n",
    "\n",
    "# Initialize a list to store features\n",
    "features = []\n",
    "\n",
    "# Loop through dataset images\n",
    "for root, dirs, files in os.walk(dataset_dir):\n",
    "    for file in files:\n",
    "        if file.endswith(('.jpg', '.png', '.jpeg')):  # Check for valid image extensions\n",
    "            image_path = os.path.join(root, file)\n",
    "            try:\n",
    "                # Read the image\n",
    "                image = cv2.imread(image_path)\n",
    "                if image is None:\n",
    "                    print(f\"Skipping invalid image: {image_path}\")\n",
    "                    continue\n",
    "                \n",
    "                # Convert to grayscale\n",
    "                gray = cv2.cvtColor(image, cv2.COLOR_BGR2GRAY)\n",
    "                \n",
    "                # Apply thresholding\n",
    "                _, binary = cv2.threshold(gray, 127, 255, cv2.THRESH_BINARY_INV)\n",
    "                \n",
    "                # Find contours\n",
    "                contours, _ = cv2.findContours(binary, cv2.RETR_EXTERNAL, cv2.CHAIN_APPROX_SIMPLE)\n",
    "                \n",
    "                # Process each contour\n",
    "                for contour in contours:\n",
    "                    M = cv2.moments(contour)\n",
    "                    if M[\"m00\"] != 0:\n",
    "                        centroid_x = int(M[\"m10\"] / M[\"m00\"])\n",
    "                        centroid_y = int(M[\"m01\"] / M[\"m00\"])\n",
    "                    else:\n",
    "                        centroid_x, centroid_y = 0, 0\n",
    "\n",
    "                    # Calculate radius and area\n",
    "                    (x, y), radius = cv2.minEnclosingCircle(contour)\n",
    "                    area_leaf = cv2.contourArea(contour)\n",
    "                    area_circle = np.pi * (radius ** 2)\n",
    "                    density = area_leaf / area_circle if area_circle != 0 else 0\n",
    "\n",
    "                    # Append extracted features\n",
    "                    features.append({\n",
    "                        \"Image\": image_path,\n",
    "                        \"Centroid_X\": centroid_x,\n",
    "                        \"Centroid_Y\": centroid_y,\n",
    "                        \"Radius\": radius,\n",
    "                        \"Density\": density,\n",
    "                    })\n",
    "            \n",
    "            except Exception as e:\n",
    "                print(f\"Error processing {image_path}: {e}\")\n",
    "\n",
    "# Save features to a CSV file\n",
    "df = pd.DataFrame(features)\n",
    "df.to_csv(output_csv, index=False)\n",
    "print(f\"Features saved to {output_csv}\")\n"
   ]
  },
  {
   "cell_type": "code",
   "execution_count": 12,
   "id": "eb60bf73",
   "metadata": {},
   "outputs": [
    {
     "ename": "EmptyDataError",
     "evalue": "No columns to parse from file",
     "output_type": "error",
     "traceback": [
      "\u001b[1;31m---------------------------------------------------------------------------\u001b[0m",
      "\u001b[1;31mEmptyDataError\u001b[0m                            Traceback (most recent call last)",
      "Cell \u001b[1;32mIn[12], line 7\u001b[0m\n\u001b[0;32m      5\u001b[0m \u001b[38;5;66;03m# Load the features CSV\u001b[39;00m\n\u001b[0;32m      6\u001b[0m features_file \u001b[38;5;241m=\u001b[39m \u001b[38;5;124m\"\u001b[39m\u001b[38;5;124mfeatures.csv\u001b[39m\u001b[38;5;124m\"\u001b[39m  \u001b[38;5;66;03m# Replace with the actual path if different\u001b[39;00m\n\u001b[1;32m----> 7\u001b[0m df \u001b[38;5;241m=\u001b[39m pd\u001b[38;5;241m.\u001b[39mread_csv(features_file)\n\u001b[0;32m      9\u001b[0m \u001b[38;5;66;03m# Check the data\u001b[39;00m\n\u001b[0;32m     10\u001b[0m \u001b[38;5;28mprint\u001b[39m(df\u001b[38;5;241m.\u001b[39mhead())\n",
      "File \u001b[1;32mC:\\Program Files\\Anaconda\\Lib\\site-packages\\pandas\\io\\parsers\\readers.py:912\u001b[0m, in \u001b[0;36mread_csv\u001b[1;34m(filepath_or_buffer, sep, delimiter, header, names, index_col, usecols, dtype, engine, converters, true_values, false_values, skipinitialspace, skiprows, skipfooter, nrows, na_values, keep_default_na, na_filter, verbose, skip_blank_lines, parse_dates, infer_datetime_format, keep_date_col, date_parser, date_format, dayfirst, cache_dates, iterator, chunksize, compression, thousands, decimal, lineterminator, quotechar, quoting, doublequote, escapechar, comment, encoding, encoding_errors, dialect, on_bad_lines, delim_whitespace, low_memory, memory_map, float_precision, storage_options, dtype_backend)\u001b[0m\n\u001b[0;32m    899\u001b[0m kwds_defaults \u001b[38;5;241m=\u001b[39m _refine_defaults_read(\n\u001b[0;32m    900\u001b[0m     dialect,\n\u001b[0;32m    901\u001b[0m     delimiter,\n\u001b[1;32m   (...)\u001b[0m\n\u001b[0;32m    908\u001b[0m     dtype_backend\u001b[38;5;241m=\u001b[39mdtype_backend,\n\u001b[0;32m    909\u001b[0m )\n\u001b[0;32m    910\u001b[0m kwds\u001b[38;5;241m.\u001b[39mupdate(kwds_defaults)\n\u001b[1;32m--> 912\u001b[0m \u001b[38;5;28;01mreturn\u001b[39;00m _read(filepath_or_buffer, kwds)\n",
      "File \u001b[1;32mC:\\Program Files\\Anaconda\\Lib\\site-packages\\pandas\\io\\parsers\\readers.py:577\u001b[0m, in \u001b[0;36m_read\u001b[1;34m(filepath_or_buffer, kwds)\u001b[0m\n\u001b[0;32m    574\u001b[0m _validate_names(kwds\u001b[38;5;241m.\u001b[39mget(\u001b[38;5;124m\"\u001b[39m\u001b[38;5;124mnames\u001b[39m\u001b[38;5;124m\"\u001b[39m, \u001b[38;5;28;01mNone\u001b[39;00m))\n\u001b[0;32m    576\u001b[0m \u001b[38;5;66;03m# Create the parser.\u001b[39;00m\n\u001b[1;32m--> 577\u001b[0m parser \u001b[38;5;241m=\u001b[39m TextFileReader(filepath_or_buffer, \u001b[38;5;241m*\u001b[39m\u001b[38;5;241m*\u001b[39mkwds)\n\u001b[0;32m    579\u001b[0m \u001b[38;5;28;01mif\u001b[39;00m chunksize \u001b[38;5;129;01mor\u001b[39;00m iterator:\n\u001b[0;32m    580\u001b[0m     \u001b[38;5;28;01mreturn\u001b[39;00m parser\n",
      "File \u001b[1;32mC:\\Program Files\\Anaconda\\Lib\\site-packages\\pandas\\io\\parsers\\readers.py:1407\u001b[0m, in \u001b[0;36mTextFileReader.__init__\u001b[1;34m(self, f, engine, **kwds)\u001b[0m\n\u001b[0;32m   1404\u001b[0m     \u001b[38;5;28mself\u001b[39m\u001b[38;5;241m.\u001b[39moptions[\u001b[38;5;124m\"\u001b[39m\u001b[38;5;124mhas_index_names\u001b[39m\u001b[38;5;124m\"\u001b[39m] \u001b[38;5;241m=\u001b[39m kwds[\u001b[38;5;124m\"\u001b[39m\u001b[38;5;124mhas_index_names\u001b[39m\u001b[38;5;124m\"\u001b[39m]\n\u001b[0;32m   1406\u001b[0m \u001b[38;5;28mself\u001b[39m\u001b[38;5;241m.\u001b[39mhandles: IOHandles \u001b[38;5;241m|\u001b[39m \u001b[38;5;28;01mNone\u001b[39;00m \u001b[38;5;241m=\u001b[39m \u001b[38;5;28;01mNone\u001b[39;00m\n\u001b[1;32m-> 1407\u001b[0m \u001b[38;5;28mself\u001b[39m\u001b[38;5;241m.\u001b[39m_engine \u001b[38;5;241m=\u001b[39m \u001b[38;5;28mself\u001b[39m\u001b[38;5;241m.\u001b[39m_make_engine(f, \u001b[38;5;28mself\u001b[39m\u001b[38;5;241m.\u001b[39mengine)\n",
      "File \u001b[1;32mC:\\Program Files\\Anaconda\\Lib\\site-packages\\pandas\\io\\parsers\\readers.py:1679\u001b[0m, in \u001b[0;36mTextFileReader._make_engine\u001b[1;34m(self, f, engine)\u001b[0m\n\u001b[0;32m   1676\u001b[0m     \u001b[38;5;28;01mraise\u001b[39;00m \u001b[38;5;167;01mValueError\u001b[39;00m(msg)\n\u001b[0;32m   1678\u001b[0m \u001b[38;5;28;01mtry\u001b[39;00m:\n\u001b[1;32m-> 1679\u001b[0m     \u001b[38;5;28;01mreturn\u001b[39;00m mapping[engine](f, \u001b[38;5;241m*\u001b[39m\u001b[38;5;241m*\u001b[39m\u001b[38;5;28mself\u001b[39m\u001b[38;5;241m.\u001b[39moptions)\n\u001b[0;32m   1680\u001b[0m \u001b[38;5;28;01mexcept\u001b[39;00m \u001b[38;5;167;01mException\u001b[39;00m:\n\u001b[0;32m   1681\u001b[0m     \u001b[38;5;28;01mif\u001b[39;00m \u001b[38;5;28mself\u001b[39m\u001b[38;5;241m.\u001b[39mhandles \u001b[38;5;129;01mis\u001b[39;00m \u001b[38;5;129;01mnot\u001b[39;00m \u001b[38;5;28;01mNone\u001b[39;00m:\n",
      "File \u001b[1;32mC:\\Program Files\\Anaconda\\Lib\\site-packages\\pandas\\io\\parsers\\c_parser_wrapper.py:93\u001b[0m, in \u001b[0;36mCParserWrapper.__init__\u001b[1;34m(self, src, **kwds)\u001b[0m\n\u001b[0;32m     90\u001b[0m \u001b[38;5;28;01mif\u001b[39;00m kwds[\u001b[38;5;124m\"\u001b[39m\u001b[38;5;124mdtype_backend\u001b[39m\u001b[38;5;124m\"\u001b[39m] \u001b[38;5;241m==\u001b[39m \u001b[38;5;124m\"\u001b[39m\u001b[38;5;124mpyarrow\u001b[39m\u001b[38;5;124m\"\u001b[39m:\n\u001b[0;32m     91\u001b[0m     \u001b[38;5;66;03m# Fail here loudly instead of in cython after reading\u001b[39;00m\n\u001b[0;32m     92\u001b[0m     import_optional_dependency(\u001b[38;5;124m\"\u001b[39m\u001b[38;5;124mpyarrow\u001b[39m\u001b[38;5;124m\"\u001b[39m)\n\u001b[1;32m---> 93\u001b[0m \u001b[38;5;28mself\u001b[39m\u001b[38;5;241m.\u001b[39m_reader \u001b[38;5;241m=\u001b[39m parsers\u001b[38;5;241m.\u001b[39mTextReader(src, \u001b[38;5;241m*\u001b[39m\u001b[38;5;241m*\u001b[39mkwds)\n\u001b[0;32m     95\u001b[0m \u001b[38;5;28mself\u001b[39m\u001b[38;5;241m.\u001b[39munnamed_cols \u001b[38;5;241m=\u001b[39m \u001b[38;5;28mself\u001b[39m\u001b[38;5;241m.\u001b[39m_reader\u001b[38;5;241m.\u001b[39munnamed_cols\n\u001b[0;32m     97\u001b[0m \u001b[38;5;66;03m# error: Cannot determine type of 'names'\u001b[39;00m\n",
      "File \u001b[1;32mC:\\Program Files\\Anaconda\\Lib\\site-packages\\pandas\\_libs\\parsers.pyx:557\u001b[0m, in \u001b[0;36mpandas._libs.parsers.TextReader.__cinit__\u001b[1;34m()\u001b[0m\n",
      "\u001b[1;31mEmptyDataError\u001b[0m: No columns to parse from file"
     ]
    }
   ],
   "source": [
    "import pandas as pd\n",
    "import matplotlib.pyplot as plt\n",
    "import seaborn as sns\n",
    "\n",
    "# Load the features CSV\n",
    "features_file = \"features.csv\"  # Replace with the actual path if different\n",
    "df = pd.read_csv(features_file)\n",
    "\n",
    "# Check the data\n",
    "print(df.head())\n",
    "\n",
    "# 1. Histogram: Density Distribution\n",
    "plt.figure(figsize=(8, 6))\n",
    "df[\"Density\"].hist(bins=20, color='skyblue', edgecolor='black')\n",
    "plt.title(\"Density Distribution\", fontsize=16)\n",
    "plt.xlabel(\"Density\", fontsize=14)\n",
    "plt.ylabel(\"Frequency\", fontsize=14)\n",
    "plt.grid(alpha=0.3)\n",
    "plt.show()\n",
    "\n",
    "# 2. Scatter Plot: Centroid vs Radius\n",
    "plt.figure(figsize=(8, 6))\n",
    "plt.scatter(df[\"Centroid_X\"], df[\"Radius\"], alpha=0.7, c='green', edgecolor='k')\n",
    "plt.title(\"Centroid_X vs Radius\", fontsize=16)\n",
    "plt.xlabel(\"Centroid X\", fontsize=14)\n",
    "plt.ylabel(\"Radius\", fontsize=14)\n",
    "plt.grid(alpha=0.3)\n",
    "plt.show()\n",
    "\n",
    "# 3. Pairplot: Relationships Between Features\n",
    "sns.pairplot(df, vars=[\"Centroid_X\", \"Centroid_Y\", \"Radius\", \"Density\"], diag_kind=\"kde\")\n",
    "plt.suptitle(\"Pairwise Relationships Between Features\", y=1.02, fontsize=16)\n",
    "plt.show()\n",
    "\n",
    "# 4. Heatmap: Correlation Matrix\n",
    "plt.figure(figsize=(8, 6))\n",
    "correlation_matrix = df[[\"Centroid_X\", \"Centroid_Y\", \"Radius\", \"Density\"]].corr()\n",
    "sns.heatmap(correlation_matrix, annot=True, cmap=\"coolwarm\", fmt=\".2f\")\n",
    "plt.title(\"Correlation Matrix\", fontsize=16)\n",
    "plt.show()\n"
   ]
  },
  {
   "cell_type": "code",
   "execution_count": 13,
   "id": "c2ee4c34",
   "metadata": {},
   "outputs": [
    {
     "ename": "SyntaxError",
     "evalue": "(unicode error) 'unicodeescape' codec can't decode bytes in position 2-3: truncated \\UXXXXXXXX escape (1003685361.py, line 1)",
     "output_type": "error",
     "traceback": [
      "\u001b[1;36m  Cell \u001b[1;32mIn[13], line 1\u001b[1;36m\u001b[0m\n\u001b[1;33m    features_file = \"C:\\Users\\vaish\\Downloads\\Potato\"\u001b[0m\n\u001b[1;37m                                                     ^\u001b[0m\n\u001b[1;31mSyntaxError\u001b[0m\u001b[1;31m:\u001b[0m (unicode error) 'unicodeescape' codec can't decode bytes in position 2-3: truncated \\UXXXXXXXX escape\n"
     ]
    }
   ],
   "source": [
    "features_file = \"C:\\Users\\vaish\\Downloads\\Potato\"\n"
   ]
  },
  {
   "cell_type": "code",
   "execution_count": null,
   "id": "993c0137",
   "metadata": {},
   "outputs": [],
   "source": []
  }
 ],
 "metadata": {
  "kernelspec": {
   "display_name": "Python 3 (ipykernel)",
   "language": "python",
   "name": "python3"
  },
  "language_info": {
   "codemirror_mode": {
    "name": "ipython",
    "version": 3
   },
   "file_extension": ".py",
   "mimetype": "text/x-python",
   "name": "python",
   "nbconvert_exporter": "python",
   "pygments_lexer": "ipython3",
   "version": "3.11.5"
  }
 },
 "nbformat": 4,
 "nbformat_minor": 5
}
